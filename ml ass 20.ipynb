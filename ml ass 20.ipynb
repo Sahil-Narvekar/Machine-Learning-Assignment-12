{
 "cells": [
  {
   "cell_type": "code",
   "execution_count": null,
   "metadata": {},
   "outputs": [],
   "source": [
    "1. What is prior probability? Give an example."
   ]
  },
  {
   "cell_type": "code",
   "execution_count": null,
   "metadata": {},
   "outputs": [],
   "source": [
    "Prior probability, in Bayesian statistical inference, is the probability of an event before new data is \n",
    "collected. This is the best rational assessment of the probability of an outcome based on the current \n",
    "knowledge before an experiment is performed.\n",
    "Three acres of land have the labels A, B, and C. One acre has reserves of oil below its surface, while \n",
    "the other two do not. The prior probability of oil being found on acre C is one third, or 0.333. But if a\n",
    "drilling test is conducted on acre B, and the results indicate that no oil is present at the location, \n",
    "then the posterior probability of oil being found on acres A and C become 0.5, as each acre has one out \n",
    "of two chances."
   ]
  },
  {
   "cell_type": "code",
   "execution_count": null,
   "metadata": {},
   "outputs": [],
   "source": [
    "2. What is posterior probability? Give an example."
   ]
  },
  {
   "cell_type": "code",
   "execution_count": null,
   "metadata": {},
   "outputs": [],
   "source": [
    "A posterior probability, in Bayesian statistics, is the revised or updated probability of an event \n",
    "occurring after taking into consideration new information. The posterior probability is calculated by \n",
    "updating the prior probability using Bayes' theorem.\n",
    "Posterior probability = prior probability + new evidence (called likelihood)\n",
    "Three acres of land have the labels A, B, and C. One acre has reserves of oil below its surface, while \n",
    "the other two do not. The prior probability of oil being found on acre C is one third, or 0.333. But if a\n",
    "drilling test is conducted on acre B, and the results indicate that no oil is present at the location, \n",
    "then the posterior probability of oil being found on acres A and C become 0.5, as each acre has one out \n",
    "of two chances."
   ]
  },
  {
   "cell_type": "code",
   "execution_count": null,
   "metadata": {},
   "outputs": [],
   "source": [
    "3. What is likelihood probability? Give an example."
   ]
  },
  {
   "cell_type": "code",
   "execution_count": null,
   "metadata": {},
   "outputs": [],
   "source": [
    "P(X|Y) = P(Y|X)*P(X)/P(Y), X is the parameters and Y is the data. The equation is described as:\n",
    "Posterior = Likelihood * Prior/ Evidence.\n",
    "The likelihood term, P(Y|X) is the probability of getting a result for a given value of the parameters.\n",
    "hree acres of land have the labels A, B, and C. One acre has reserves of oil below its surface, while \n",
    "the other two do not. The prior probability of oil being found on acre C is one third, or 0.333. But if a\n",
    "drilling test is conducted on acre B, and the results indicate that no oil is present at the location, \n",
    "then the posterior probability of oil being found on acres A and C become 0.5, as each acre has one out \n",
    "of two chances.In this example likelihood isa also 0.5 considering that oil was not found on acre c,\n",
    "hence now likelihood that oil will be found under acre A would be 0.5."
   ]
  },
  {
   "cell_type": "code",
   "execution_count": null,
   "metadata": {},
   "outputs": [],
   "source": [
    "4. What is Naïve Bayes classifier? Why is it named so?"
   ]
  },
  {
   "cell_type": "code",
   "execution_count": null,
   "metadata": {},
   "outputs": [],
   "source": [
    "A naive Bayes classifier assumes that the presence (or absence) of a particular feature of a class is\n",
    "unrelated to the presence (or absence) of any other feature, given the class variable. Basically, it's \n",
    "\"naive\" because it makes assumptions that may or may not turn out to be correct."
   ]
  },
  {
   "cell_type": "code",
   "execution_count": null,
   "metadata": {},
   "outputs": [],
   "source": [
    "5. What is optimal Bayes classifier?"
   ]
  },
  {
   "cell_type": "code",
   "execution_count": null,
   "metadata": {},
   "outputs": [],
   "source": [
    "Bayes Optimal Classifier is a probabilistic framework that finds the most probable prediction using the \n",
    "training data and set of all the possible legal hypothesis to make a prediction for a new data instance."
   ]
  },
  {
   "cell_type": "code",
   "execution_count": null,
   "metadata": {},
   "outputs": [],
   "source": [
    "6. Write any two features of Bayesian learning methods."
   ]
  },
  {
   "cell_type": "code",
   "execution_count": null,
   "metadata": {},
   "outputs": [],
   "source": [
    "Each observed training example can incrementally decrease or increase the estimated probability that a \n",
    "hypothesis is correct. This provides a more flexible approach to learning than algorithms that completely\n",
    "eliminate a hypothesis if it is found to be inconsistent with any single example.\n",
    "\n",
    "Prior knowledge can be combined with observed data to determine the final\n",
    "probability of a hypothesis. In Bayesian learning, prior knowledge is provided by\n",
    "asserting\n",
    "– a prior probability for each candidate hypothesis, and\n",
    "– a probability distribution over observed data for each possible hypothesis."
   ]
  },
  {
   "cell_type": "code",
   "execution_count": null,
   "metadata": {},
   "outputs": [],
   "source": [
    "7. Define the concept of consistent learners."
   ]
  },
  {
   "cell_type": "code",
   "execution_count": null,
   "metadata": {},
   "outputs": [],
   "source": [
    "A learning algorithm is a consistent learner if it commits zero errors over the training examples.\n",
    "A learner L using a hypothesis H and training data D is said to be a consistent learner if it always \n",
    "outputs a hypothesis with zero error on D whenever H contains such a hypothesis. • By definition, a \n",
    "consistent learner must produce a hypothesis in the version space for H given D."
   ]
  },
  {
   "cell_type": "code",
   "execution_count": null,
   "metadata": {},
   "outputs": [],
   "source": [
    "8. Write any two strengths of Bayes classifier."
   ]
  },
  {
   "cell_type": "code",
   "execution_count": null,
   "metadata": {},
   "outputs": [],
   "source": [
    "It is simple and easy to implement.\n",
    "It doesn't require as much training data.\n",
    "It handles both continuous and discrete data.\n",
    "It is highly scalable with the number of predictors and data points."
   ]
  },
  {
   "cell_type": "code",
   "execution_count": null,
   "metadata": {},
   "outputs": [],
   "source": [
    "9. Write any two weaknesses of Bayes classifier."
   ]
  },
  {
   "cell_type": "code",
   "execution_count": null,
   "metadata": {},
   "outputs": [],
   "source": [
    "If your test data set has a categorical variable of a category that wasn’t present in the training data\n",
    "set, the Naive Bayes model will assign it zero probability and won’t be able to make any predictions in \n",
    "this regard. This phenomenon is called ‘Zero Frequency,’ and you’ll have to use a smoothing technique to \n",
    "solve this problem.\n",
    "\n",
    "It assumes that all the features are independent. While it might sound great in theory, in real life, \n",
    "you’ll hardly find a set of independent features. "
   ]
  },
  {
   "cell_type": "code",
   "execution_count": null,
   "metadata": {},
   "outputs": [],
   "source": [
    "10. Explain how Naïve Bayes classifier is used for\n",
    "\n",
    "1. Text classification\n",
    "\n",
    "2. Spam filtering\n",
    "\n",
    "3. Market sentiment analysis"
   ]
  },
  {
   "cell_type": "code",
   "execution_count": null,
   "metadata": {},
   "outputs": [],
   "source": [
    " 1. Text classification\n",
    "    classification to classify a sentence to either ‘question’ or ‘statement’. In this case, there are two\n",
    "classes (“question” and “statement”). With the training set, we can train a Naive Bayes classifier which \n",
    "we can use to automatically categorize a new sentence.\n",
    "\n",
    "2. Spam filtering\n",
    "Naive Bayes classifiers work by correlating the use of tokens (typically words, or sometimes other things),\n",
    "with spam and non-spam e-mails and then using Bayes' theorem to calculate a probability that an email is\n",
    "or is not spam.\n",
    "Naive Bayes spam filtering is a baseline technique for dealing with spam that can tailor itself to the \n",
    "email needs of individual users and give low false positive spam detection rates that are generally \n",
    "acceptable to users.\n",
    "\n",
    "3. Market sentiment analysis\n",
    "To proceed further with the sentiment analysis we need to do text classification. We can use ‘bag of words\n",
    "(BOW)’ model for the analysis. In laymen terms, BOW model converts text in the form of numbers which can \n",
    "then be used in an algorithm for analysis.\n",
    "Specifically, BOW model is used for feature extraction in text data. It returns a vector with all the \n",
    "words and the number of times each word is repeated. It is known as BOW because it is only concerned with\n",
    "the number of times a word is repeated rather than the order of words. Let’s take an example to understand \n",
    "it better (assume each document contains a sentence only):\n"
   ]
  },
  {
   "cell_type": "code",
   "execution_count": 2,
   "metadata": {},
   "outputs": [],
   "source": [
    "import os"
   ]
  },
  {
   "cell_type": "code",
   "execution_count": 3,
   "metadata": {},
   "outputs": [],
   "source": [
    "os.chdir(\"C:\\\\Users\\\\Sahil\")"
   ]
  },
  {
   "cell_type": "code",
   "execution_count": 4,
   "metadata": {},
   "outputs": [
    {
     "data": {
      "text/plain": [
       "'C:\\\\Users\\\\Sahil'"
      ]
     },
     "execution_count": 4,
     "metadata": {},
     "output_type": "execute_result"
    }
   ],
   "source": [
    "pwd()"
   ]
  },
  {
   "cell_type": "code",
   "execution_count": null,
   "metadata": {},
   "outputs": [],
   "source": []
  }
 ],
 "metadata": {
  "kernelspec": {
   "display_name": "Python 3",
   "language": "python",
   "name": "python3"
  },
  "language_info": {
   "codemirror_mode": {
    "name": "ipython",
    "version": 3
   },
   "file_extension": ".py",
   "mimetype": "text/x-python",
   "name": "python",
   "nbconvert_exporter": "python",
   "pygments_lexer": "ipython3",
   "version": "3.8.3"
  }
 },
 "nbformat": 4,
 "nbformat_minor": 4
}
